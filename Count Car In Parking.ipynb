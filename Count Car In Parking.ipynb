{
 "cells": [
  {
   "cell_type": "code",
   "execution_count": 5,
   "id": "fdd13bd8",
   "metadata": {},
   "outputs": [],
   "source": [
    "from ultralytics import YOLO\n",
    "\n",
    "import os\n",
    "import numpy as np\n",
    "import cv2\n",
    "os.chdir(r'D:\\Motion-Detection-and-Tracking-Using-Opencv-main\\YOLO')\n"
   ]
  },
  {
   "cell_type": "code",
   "execution_count": 6,
   "id": "e199e250",
   "metadata": {},
   "outputs": [],
   "source": [
    "model=YOLO('yolov8s.pt')"
   ]
  },
  {
   "cell_type": "code",
   "execution_count": null,
   "id": "392e0af4",
   "metadata": {},
   "outputs": [
    {
     "name": "stderr",
     "output_type": "stream",
     "text": [
      "\n",
      "0: 480x640 1 car, 3 trucks, 1707.0ms\n",
      "Speed: 28.0ms preprocess, 1707.0ms inference, 17.0ms postprocess per image at shape (1, 3, 480, 640)\n",
      "\n"
     ]
    },
    {
     "name": "stdout",
     "output_type": "stream",
     "text": [
      "truck\n",
      "truck\n",
      "truck\n",
      "car\n"
     ]
    },
    {
     "name": "stderr",
     "output_type": "stream",
     "text": [
      "0: 480x640 1 car, 3 trucks, 1232.0ms\n",
      "Speed: 100.0ms preprocess, 1232.0ms inference, 6.0ms postprocess per image at shape (1, 3, 480, 640)\n",
      "\n"
     ]
    },
    {
     "name": "stdout",
     "output_type": "stream",
     "text": [
      "truck\n",
      "truck\n",
      "truck\n",
      "car\n"
     ]
    },
    {
     "name": "stderr",
     "output_type": "stream",
     "text": [
      "0: 480x640 1 car, 3 trucks, 1291.0ms\n",
      "Speed: 10.0ms preprocess, 1291.0ms inference, 6.0ms postprocess per image at shape (1, 3, 480, 640)\n",
      "\n"
     ]
    },
    {
     "name": "stdout",
     "output_type": "stream",
     "text": [
      "truck\n",
      "truck\n",
      "truck\n",
      "car\n"
     ]
    },
    {
     "name": "stderr",
     "output_type": "stream",
     "text": [
      "0: 480x640 1 car, 4 trucks, 1241.9ms\n",
      "Speed: 12.1ms preprocess, 1241.9ms inference, 6.2ms postprocess per image at shape (1, 3, 480, 640)\n",
      "\n"
     ]
    },
    {
     "name": "stdout",
     "output_type": "stream",
     "text": [
      "truck\n",
      "truck\n",
      "truck\n",
      "car\n",
      "truck\n"
     ]
    },
    {
     "name": "stderr",
     "output_type": "stream",
     "text": [
      "0: 480x640 1 car, 4 trucks, 1341.0ms\n",
      "Speed: 19.0ms preprocess, 1341.0ms inference, 15.0ms postprocess per image at shape (1, 3, 480, 640)\n",
      "\n"
     ]
    },
    {
     "name": "stdout",
     "output_type": "stream",
     "text": [
      "truck\n",
      "truck\n",
      "truck\n",
      "car\n",
      "truck\n"
     ]
    },
    {
     "name": "stderr",
     "output_type": "stream",
     "text": [
      "0: 480x640 1 car, 3 trucks, 1490.8ms\n",
      "Speed: 18.2ms preprocess, 1490.8ms inference, 6.0ms postprocess per image at shape (1, 3, 480, 640)\n",
      "\n"
     ]
    },
    {
     "name": "stdout",
     "output_type": "stream",
     "text": [
      "truck\n",
      "truck\n",
      "truck\n",
      "car\n"
     ]
    },
    {
     "name": "stderr",
     "output_type": "stream",
     "text": [
      "0: 480x640 1 car, 3 trucks, 1351.0ms\n",
      "Speed: 15.0ms preprocess, 1351.0ms inference, 6.0ms postprocess per image at shape (1, 3, 480, 640)\n",
      "\n"
     ]
    },
    {
     "name": "stdout",
     "output_type": "stream",
     "text": [
      "truck\n",
      "truck\n",
      "truck\n",
      "car\n"
     ]
    },
    {
     "name": "stderr",
     "output_type": "stream",
     "text": [
      "0: 480x640 1 car, 3 trucks, 1502.9ms\n",
      "Speed: 21.0ms preprocess, 1502.9ms inference, 11.0ms postprocess per image at shape (1, 3, 480, 640)\n",
      "\n"
     ]
    },
    {
     "name": "stdout",
     "output_type": "stream",
     "text": [
      "truck\n",
      "truck\n",
      "truck\n",
      "car\n"
     ]
    },
    {
     "name": "stderr",
     "output_type": "stream",
     "text": [
      "0: 480x640 1 car, 4 trucks, 1821.0ms\n",
      "Speed: 18.0ms preprocess, 1821.0ms inference, 6.0ms postprocess per image at shape (1, 3, 480, 640)\n",
      "\n"
     ]
    },
    {
     "name": "stdout",
     "output_type": "stream",
     "text": [
      "truck\n",
      "truck\n",
      "car\n",
      "truck\n",
      "truck\n"
     ]
    },
    {
     "name": "stderr",
     "output_type": "stream",
     "text": [
      "0: 480x640 1 car, 4 trucks, 1815.0ms\n",
      "Speed: 16.0ms preprocess, 1815.0ms inference, 11.0ms postprocess per image at shape (1, 3, 480, 640)\n",
      "\n"
     ]
    },
    {
     "name": "stdout",
     "output_type": "stream",
     "text": [
      "truck\n",
      "truck\n",
      "car\n",
      "truck\n",
      "truck\n"
     ]
    },
    {
     "name": "stderr",
     "output_type": "stream",
     "text": [
      "0: 480x640 1 car, 4 trucks, 1603.0ms\n",
      "Speed: 16.0ms preprocess, 1603.0ms inference, 6.0ms postprocess per image at shape (1, 3, 480, 640)\n",
      "\n"
     ]
    },
    {
     "name": "stdout",
     "output_type": "stream",
     "text": [
      "truck\n",
      "truck\n",
      "truck\n",
      "car\n",
      "truck\n"
     ]
    },
    {
     "name": "stderr",
     "output_type": "stream",
     "text": [
      "0: 480x640 1 car, 4 trucks, 1773.0ms\n",
      "Speed: 42.0ms preprocess, 1773.0ms inference, 7.0ms postprocess per image at shape (1, 3, 480, 640)\n",
      "\n"
     ]
    },
    {
     "name": "stdout",
     "output_type": "stream",
     "text": [
      "truck\n",
      "truck\n",
      "truck\n",
      "car\n",
      "truck\n"
     ]
    },
    {
     "name": "stderr",
     "output_type": "stream",
     "text": [
      "0: 480x640 1 car, 1 bus, 4 trucks, 1522.9ms\n",
      "Speed: 12.1ms preprocess, 1522.9ms inference, 8.0ms postprocess per image at shape (1, 3, 480, 640)\n",
      "\n"
     ]
    },
    {
     "name": "stdout",
     "output_type": "stream",
     "text": [
      "truck\n",
      "bus\n",
      "truck\n",
      "truck\n",
      "car\n",
      "truck\n"
     ]
    },
    {
     "name": "stderr",
     "output_type": "stream",
     "text": [
      "0: 480x640 1 car, 1 bus, 5 trucks, 1289.0ms\n",
      "Speed: 27.0ms preprocess, 1289.0ms inference, 5.0ms postprocess per image at shape (1, 3, 480, 640)\n",
      "\n"
     ]
    },
    {
     "name": "stdout",
     "output_type": "stream",
     "text": [
      "truck\n",
      "truck\n",
      "car\n",
      "bus\n",
      "truck\n",
      "truck\n",
      "truck\n"
     ]
    },
    {
     "name": "stderr",
     "output_type": "stream",
     "text": [
      "0: 480x640 1 car, 5 trucks, 1399.0ms\n",
      "Speed: 22.0ms preprocess, 1399.0ms inference, 6.0ms postprocess per image at shape (1, 3, 480, 640)\n",
      "\n"
     ]
    },
    {
     "name": "stdout",
     "output_type": "stream",
     "text": [
      "truck\n",
      "truck\n",
      "truck\n",
      "car\n",
      "truck\n",
      "truck\n"
     ]
    },
    {
     "name": "stderr",
     "output_type": "stream",
     "text": [
      "0: 480x640 2 cars, 1 bus, 3 trucks, 1844.0ms\n",
      "Speed: 76.0ms preprocess, 1844.0ms inference, 10.0ms postprocess per image at shape (1, 3, 480, 640)\n",
      "\n"
     ]
    },
    {
     "name": "stdout",
     "output_type": "stream",
     "text": [
      "truck\n",
      "truck\n",
      "bus\n",
      "truck\n",
      "car\n",
      "car\n"
     ]
    },
    {
     "name": "stderr",
     "output_type": "stream",
     "text": [
      "0: 480x640 3 cars, 1 bus, 3 trucks, 1751.9ms\n",
      "Speed: 14.1ms preprocess, 1751.9ms inference, 6.0ms postprocess per image at shape (1, 3, 480, 640)\n",
      "\n"
     ]
    },
    {
     "name": "stdout",
     "output_type": "stream",
     "text": [
      "truck\n",
      "bus\n",
      "truck\n",
      "truck\n",
      "car\n",
      "car\n",
      "car\n"
     ]
    }
   ],
   "source": [
    "labels=None\n",
    "points=np.array([[  3, 344],[  4 ,410],[223 ,398],[493 ,337],[442 ,281]])\n",
    "font=cv2.FONT_HERSHEY_COMPLEX\n",
    "cap=cv2.VideoCapture('parking.mp4')\n",
    "forcc=cv2.VideoWriter_fourcc(*'XVID')\n",
    "out=cv2.VideoWriter('Count Car In Parking output.mp4',forcc,20.0,(640,480))\n",
    "while cap.isOpened():\n",
    "    _,frame=cap.read()\n",
    "    frame=cv2.resize(frame,(640,480))\n",
    "\n",
    "    cv2.polylines(frame,[points],True,(255,0,0),2)\n",
    "    result=model(frame)[0]\n",
    "    if labels==None:\n",
    "        labels=result.names\n",
    "    car_count=[]\n",
    "    for box in result.boxes.data:\n",
    "        x1,y1,x2,y2,label=int(box[0]),int(box[1]),int(box[2]),int(box[3]),labels[int(box[5])]\n",
    "        print(label)\n",
    "        if label in ['car','truck']:\n",
    "            cx,cy=(x1+x2)/2,(y1+y2)/2\n",
    "            condition=cv2.pointPolygonTest(points,(cx,cy),False)\n",
    "            if condition>0:\n",
    "                cv2.rectangle(frame,(int(x1),int(y1)),(int(x2),int(y2)),(0,0,225),2)\n",
    "                car_count.append(1)\n",
    "    cv2.putText(frame,'Number os cars is :'+str(sum(car_count)),(50,50),font,.7,(0,0,0),2)\n",
    "    out.write(frame)\n",
    "\n",
    "    cv2.imshow('image',frame)\n",
    "    if cv2.waitKey(1)==27:\n",
    "        break\n",
    "cap.release()\n",
    "out.release()\n",
    "\n",
    "cv2.destroyAllWindows()"
   ]
  },
  {
   "cell_type": "code",
   "execution_count": null,
   "id": "2fc8feee",
   "metadata": {},
   "outputs": [],
   "source": []
  },
  {
   "cell_type": "code",
   "execution_count": null,
   "id": "db16b84c",
   "metadata": {},
   "outputs": [],
   "source": []
  }
 ],
 "metadata": {
  "kernelspec": {
   "display_name": "Python 3 (ipykernel)",
   "language": "python",
   "name": "python3"
  },
  "language_info": {
   "codemirror_mode": {
    "name": "ipython",
    "version": 3
   },
   "file_extension": ".py",
   "mimetype": "text/x-python",
   "name": "python",
   "nbconvert_exporter": "python",
   "pygments_lexer": "ipython3",
   "version": "3.10.9"
  }
 },
 "nbformat": 4,
 "nbformat_minor": 5
}
